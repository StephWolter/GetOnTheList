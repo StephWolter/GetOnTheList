{
 "cells": [
  {
   "cell_type": "markdown",
   "id": "d2b5aed9",
   "metadata": {},
   "source": [
    "# Import Dependencies"
   ]
  },
  {
   "cell_type": "code",
   "execution_count": 1,
   "id": "c95a34ce",
   "metadata": {},
   "outputs": [],
   "source": [
    "from datetime import date, timedelta, datetime\n",
    "from time import sleep\n",
    "import requests\n",
    "import pandas as pd\n",
    "# import pprint as pp\n",
    "import sqlalchemy\n",
    "from sqlalchemy.orm import Session\n",
    "from psql_connect import get_engine, get_base\n",
    "from api_keys import nyt_apikey_1, nyt_apikey_2"
   ]
  },
  {
   "cell_type": "markdown",
   "id": "c499c8fc",
   "metadata": {},
   "source": [
    "# Connect to SQL Database"
   ]
  },
  {
   "cell_type": "code",
   "execution_count": 2,
   "id": "1f4c8936",
   "metadata": {},
   "outputs": [
    {
     "data": {
      "text/plain": [
       "['imprints', 'ownership', 'publishers', 'authors', 'books', 'lists', 'results']"
      ]
     },
     "execution_count": 2,
     "metadata": {},
     "output_type": "execute_result"
    }
   ],
   "source": [
    "# Create SQLAlchemy engine and automap base\n",
    "engine = get_engine()\n",
    "Base = get_base(engine)\n",
    "\n",
    "# Create session\n",
    "session = Session(engine)\n",
    "\n",
    "# Confirm successful connection\n",
    "Base.classes.keys()"
   ]
  },
  {
   "cell_type": "code",
   "execution_count": 3,
   "id": "962b43d5",
   "metadata": {},
   "outputs": [],
   "source": [
    "# Assign table classes to variables\n",
    "Authors = Base.classes.authors\n",
    "Books = Base.classes.books\n",
    "Imprints = Base.classes.imprints\n",
    "Lists = Base.classes.lists\n",
    "Results = Base.classes.results\n",
    "Publishers = Base.classes.publishers\n",
    "Ownership = Base.classes.ownership"
   ]
  },
  {
   "cell_type": "markdown",
   "id": "1435b09d",
   "metadata": {},
   "source": [
    "# Get NYT Data"
   ]
  },
  {
   "cell_type": "code",
   "execution_count": 4,
   "id": "071b1342",
   "metadata": {},
   "outputs": [],
   "source": [
    "def get_NYT_Data(search_date):\n",
    "    # Create URL string for API calls\n",
    "    url = f\"https://api.nytimes.com/svc/books/v3/lists/full-overview.json?published_date={search_date.strftime('%Y-%m-%d')}&api-key={nyt_apikey_1}\"\n",
    "\n",
    "    # Make API request\n",
    "    response = requests.get(url).json()\n",
    "    \n",
    "    # Empty list which will later be used to create Pandas Dataframe\n",
    "    book_data = []\n",
    "\n",
    "    # Published date\n",
    "    pub_date = datetime.strptime(response['results']['published_date'], '%Y-%m-%d').date()\n",
    "\n",
    "    # Loop through each list in the response\n",
    "    for blist in response['results']['lists']:\n",
    "\n",
    "        list_name = blist['list_name']\n",
    "\n",
    "    #     Loop through each book in the list\n",
    "        for book in blist['books']:\n",
    "\n",
    "            # Append book-related information\n",
    "            book_data.append({\n",
    "                'NYT List': list_name,\n",
    "                'NYT List Published Date': pub_date,            \n",
    "                'Title': book['title'],\n",
    "                'Author': book['author'],\n",
    "                'Imprint': book['publisher'],\n",
    "                'Rank': book['rank'],\n",
    "                'Weeks on NYT List': book['weeks_on_list'],\n",
    "                'Image': book['book_image'],\n",
    "                'Description': book['description']\n",
    "            })\n",
    "    book_df = pd.DataFrame(book_data)\n",
    "    return book_df"
   ]
  },
  {
   "cell_type": "markdown",
   "id": "90ba2b8f",
   "metadata": {},
   "source": [
    "# Update SQL Functions"
   ]
  },
  {
   "cell_type": "code",
   "execution_count": 30,
   "id": "705537c8",
   "metadata": {},
   "outputs": [],
   "source": [
    "def update_lists_table(book_df):\n",
    "    print(\"Updating lists table...\")\n",
    "    # Lists in the current DataFrame\n",
    "    lists_from_df = book_df['NYT List'].unique()\n",
    "    # Lists in the SQL database\n",
    "    lists_from_pg = list(blist[0] for blist in session.query(Lists.list_name).all())\n",
    "    # Lists that are in the current DataFrame but not in the SQL database\n",
    "    lists_to_add = list(blist for blist in lists_from_df if blist not in lists_from_pg)\n",
    "    \n",
    "    # If there are any lists in the current DataFrame but not in the SQL database, add the lists to the SQL database\n",
    "    if len(lists_to_add) > 0:\n",
    "        for blist in lists_to_add:\n",
    "            session.add(Lists(list_name=blist))\n",
    "        session.commit()"
   ]
  },
  {
   "cell_type": "code",
   "execution_count": 31,
   "id": "42f90dd2",
   "metadata": {},
   "outputs": [],
   "source": [
    "def update_imprints_table(book_df):\n",
    "    print(\"Updating imprints table...\")\n",
    "    imprints_from_df = book_df['Imprint'].unique()\n",
    "    imprints_from_pg = list(imprint[0] for imprint in session.query(Imprints.imprint_name).all())\n",
    "    imprints_to_add = list(imprint for imprint in imprints_from_df if imprint not in imprints_from_pg)\n",
    "\n",
    "    if len(imprints_to_add) > 0:\n",
    "        for imprint in imprints_to_add:\n",
    "            session.add(Imprints(imprint_name=imprint))\n",
    "        session.commit()"
   ]
  },
  {
   "cell_type": "code",
   "execution_count": 32,
   "id": "d78f4746",
   "metadata": {},
   "outputs": [],
   "source": [
    "def update_authors_table(book_df):\n",
    "    print(\"Updating authors table...\")\n",
    "    authors_from_df = book_df['Author'].unique()\n",
    "    authors_from_pg = list(author[0] for author in session.query(Authors.author_name).all())\n",
    "    authors_to_add = list(author for author in authors_from_df if author not in authors_from_pg)\n",
    "\n",
    "    if len(authors_to_add) > 0:\n",
    "        for author in authors_to_add:\n",
    "            session.add(Authors(author_name=author))\n",
    "        session.commit()"
   ]
  },
  {
   "cell_type": "code",
   "execution_count": 33,
   "id": "8eea906c",
   "metadata": {},
   "outputs": [],
   "source": [
    "def update_books_table(book_df):\n",
    "    print(\"Updating books table...\")\n",
    "    books_from_df = book_df['Title'].unique()\n",
    "    books_from_pg = list(book[0] for book in session.query(Books.book_title).all())\n",
    "    \n",
    "    if len(list(book for book in books_from_df if book not in books_from_pg)) > 0:\n",
    "        for i in range(len(book_df)):\n",
    "            title = book_df.loc[i, 'Title']\n",
    "\n",
    "            if title not in books_from_pg:\n",
    "                image = book_df.loc[i, 'Image']\n",
    "                desc = book_df.loc[i, 'Description']\n",
    "                author = book_df.loc[i, 'Author']\n",
    "                imprint = book_df.loc[i, 'Imprint']\n",
    "\n",
    "                author_id = session.query(Authors.author_id).filter(Authors.author_name == author).first()[0]\n",
    "                imprint_id = session.query(Imprints.imprint_id).filter(Imprints.imprint_name == imprint).first()[0]\n",
    "\n",
    "                session.add(Books(book_title = title, \\\n",
    "                                     book_image = image, \\\n",
    "                                     book_description = desc, \\\n",
    "                                     author_id = author_id, \\\n",
    "                                     imprint_id = imprint_id))\n",
    "\n",
    "        session.commit()"
   ]
  },
  {
   "cell_type": "code",
   "execution_count": 34,
   "id": "c42f8265",
   "metadata": {},
   "outputs": [],
   "source": [
    "def update_results_table(book_df):\n",
    "    print(\"Updating results table...\")\n",
    "    dates_from_df = book_df['NYT List Published Date'].unique()\n",
    "    dates_from_pg = list(pdate[0] for pdate in session.query(Results.published_date).group_by(Results.published_date).all())\n",
    "    \n",
    "    if len(list(pdate for pdate in dates_from_df if pdate not in dates_from_pg)) > 0:\n",
    "        for i in range(len(book_df)):\n",
    "            blist = book_df.loc[i, 'NYT List']\n",
    "            title = book_df.loc[i, 'Title']\n",
    "            pub_date = book_df.loc[i, 'NYT List Published Date']\n",
    "            rank = int(book_df.loc[i, 'Rank'])\n",
    "            weeks_on_list = int(book_df.loc[i, 'Weeks on NYT List'])\n",
    "\n",
    "            list_id = session.query(Lists.list_id).filter(Lists.list_name == blist).first()[0]\n",
    "            book_id = session.query(Books.book_id).filter(Books.book_title == title).first()[0]\n",
    "\n",
    "            session.add(Results(list_id = list_id, \\\n",
    "                                   book_id = book_id, \\\n",
    "                                   published_date = pub_date, \\\n",
    "                                   rank = rank, \\\n",
    "                                   weeks_on_list = weeks_on_list))\n",
    "\n",
    "        session.commit()"
   ]
  },
  {
   "cell_type": "code",
   "execution_count": 10,
   "id": "fd2d89ff",
   "metadata": {},
   "outputs": [],
   "source": [
    "def update_database(book_df):\n",
    "    update_lists_table(book_df)\n",
    "    update_imprints_table(book_df)\n",
    "    update_authors_table(book_df)\n",
    "    update_books_table(book_df)\n",
    "    update_results_table(book_df)"
   ]
  },
  {
   "cell_type": "markdown",
   "id": "2e5161e3",
   "metadata": {},
   "source": [
    "# Retrieve NYT Data and Update Database"
   ]
  },
  {
   "cell_type": "code",
   "execution_count": 50,
   "id": "ab4f8f3d",
   "metadata": {},
   "outputs": [
    {
     "name": "stdout",
     "output_type": "stream",
     "text": [
      "Beginning data retrieval for 2018-12-15\n",
      "Beginning database update\n",
      "Updating lists table...\n",
      "Updating imprints table...\n",
      "Updating authors table...\n",
      "Updating books table...\n",
      "Updating results table...\n",
      "Update complete with 2018-12-15 data\n",
      "Beginning data retrieval for 2018-11-15\n",
      "Beginning database update\n",
      "Updating lists table...\n",
      "Updating imprints table...\n",
      "Updating authors table...\n",
      "Updating books table...\n",
      "Updating results table...\n",
      "Update complete with 2018-11-15 data\n",
      "Beginning data retrieval for 2018-10-15\n",
      "Beginning database update\n",
      "Updating lists table...\n",
      "Updating imprints table...\n",
      "Updating authors table...\n",
      "Updating books table...\n",
      "Updating results table...\n",
      "Update complete with 2018-10-15 data\n",
      "Beginning data retrieval for 2018-09-15\n",
      "Beginning database update\n",
      "Updating lists table...\n",
      "Updating imprints table...\n",
      "Updating authors table...\n",
      "Updating books table...\n",
      "Updating results table...\n",
      "Update complete with 2018-09-15 data\n",
      "Beginning data retrieval for 2018-08-15\n",
      "Beginning database update\n",
      "Updating lists table...\n",
      "Updating imprints table...\n",
      "Updating authors table...\n",
      "Updating books table...\n",
      "Updating results table...\n",
      "Update complete with 2018-08-15 data\n",
      "Beginning data retrieval for 2018-07-15\n",
      "Beginning database update\n",
      "Updating lists table...\n",
      "Updating imprints table...\n",
      "Updating authors table...\n",
      "Updating books table...\n",
      "Updating results table...\n",
      "Update complete with 2018-07-15 data\n",
      "Beginning data retrieval for 2018-06-15\n",
      "Beginning database update\n",
      "Updating lists table...\n",
      "Updating imprints table...\n",
      "Updating authors table...\n",
      "Updating books table...\n",
      "Updating results table...\n",
      "Update complete with 2018-06-15 data\n",
      "Beginning data retrieval for 2018-05-15\n",
      "Beginning database update\n",
      "Updating lists table...\n",
      "Updating imprints table...\n",
      "Updating authors table...\n",
      "Updating books table...\n",
      "Updating results table...\n",
      "Update complete with 2018-05-15 data\n",
      "Beginning data retrieval for 2018-04-15\n",
      "Beginning database update\n",
      "Updating lists table...\n",
      "Updating imprints table...\n",
      "Updating authors table...\n",
      "Updating books table...\n",
      "Updating results table...\n",
      "Update complete with 2018-04-15 data\n",
      "Beginning data retrieval for 2018-03-15\n",
      "Beginning database update\n",
      "Updating lists table...\n",
      "Updating imprints table...\n",
      "Updating authors table...\n",
      "Updating books table...\n",
      "Updating results table...\n",
      "Update complete with 2018-03-15 data\n",
      "Beginning data retrieval for 2018-02-15\n",
      "Beginning database update\n",
      "Updating lists table...\n",
      "Updating imprints table...\n",
      "Updating authors table...\n",
      "Updating books table...\n",
      "Updating results table...\n",
      "Update complete with 2018-02-15 data\n",
      "Beginning data retrieval for 2018-01-15\n",
      "Beginning database update\n",
      "Updating lists table...\n",
      "Updating imprints table...\n",
      "Updating authors table...\n",
      "Updating books table...\n",
      "Updating results table...\n",
      "Update complete with 2018-01-15 data\n"
     ]
    }
   ],
   "source": [
    "# Loop through years\n",
    "for j in reversed(range(2018, 2024)):\n",
    "    # Loop through months\n",
    "    for i in reversed(range(1, 13)):\n",
    "        # Conditional to exclude dates after May 2023\n",
    "        if not (j == 2023 and i > 5):\n",
    "            search_date = date(j, i, 15)\n",
    "            print(f\"Beginning data retrieval for {search_date}\")\n",
    "            book_df = get_NYT_Data(search_date)\n",
    "            print(\"Beginning database update\")\n",
    "            update_database(book_df)\n",
    "            print(f\"Update complete with {search_date} data\")\n",
    "            sleep(30)"
   ]
  },
  {
   "cell_type": "markdown",
   "id": "457f5b91",
   "metadata": {},
   "source": [
    "# Close Session"
   ]
  },
  {
   "cell_type": "code",
   "execution_count": 55,
   "id": "16687fa4",
   "metadata": {},
   "outputs": [],
   "source": [
    "session.close()"
   ]
  }
 ],
 "metadata": {
  "kernelspec": {
   "display_name": "Python 3 (ipykernel)",
   "language": "python",
   "name": "python3"
  },
  "language_info": {
   "codemirror_mode": {
    "name": "ipython",
    "version": 3
   },
   "file_extension": ".py",
   "mimetype": "text/x-python",
   "name": "python",
   "nbconvert_exporter": "python",
   "pygments_lexer": "ipython3",
   "version": "3.9.13"
  }
 },
 "nbformat": 4,
 "nbformat_minor": 5
}
